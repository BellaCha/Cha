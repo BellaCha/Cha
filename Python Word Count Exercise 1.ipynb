{
 "cells": [
  {
   "cell_type": "code",
   "execution_count": 1,
   "metadata": {},
   "outputs": [],
   "source": [
    "lyrics= \"I remember so well\\\n",
    " the day that you came\\\n",
    " into my life\\\n",
    " you asked for my name\\\n",
    " you have the most beautiful smile\\\n",
    " My life started to change\\\n",
    " i wake up each day feeling all right\\\n",
    " with you right by my side\\\n",
    " makes me feel things\\\n",
    " will work out just fine\\\n",
    " How did you know\\\n",
    " i needed someone like you in my life\\\n",
    " that there was an empty space in my heart\\\n",
    " you came at the right time in my life\\\n",
    " i never forget how you brought the sun to shine in my life\\\n",
    " and took all the worries and fears that i had\\\n",
    " i guess what i am really trying to say\\\n",
    " it is not everyday that someone like you comes my way\\\n",
    " no words can express how much i love you\\\n",
    " How did you know\\\n",
    " i needed someone like you in my life\\\n",
    " that there was an empty space in my heart\\\n",
    " you came at the right time in my life\\\n",
    " i never forget how you brought the sun to shine in my life\\\n",
    " and took all the worries and fears that i had\\\n",
    " i guess what i am really trying to say\\\n",
    " it is not everyday that someone like you comes my way\\\n",
    " no words can express how much i love you\""
   ]
  },
  {
   "cell_type": "code",
   "execution_count": 2,
   "metadata": {},
   "outputs": [
    {
     "name": "stdout",
     "output_type": "stream",
     "text": [
      "I remember so well the day that you came into my life you asked for my name you have the most beautiful smile My life started to change i wake up each day feeling all right with you right by my side makes me feel things will work out just fine How did you know i needed someone like you in my life that there was an empty space in my heart you came at the right time in my life i never forget how you brought the sun to shine in my life and took all the worries and fears that i had i guess what i am really trying to say it is not everyday that someone like you comes my way no words can express how much i love you How did you know i needed someone like you in my life that there was an empty space in my heart you came at the right time in my life i never forget how you brought the sun to shine in my life and took all the worries and fears that i had i guess what i am really trying to say it is not everyday that someone like you comes my way no words can express how much i love you\n"
     ]
    }
   ],
   "source": [
    "print(lyrics)"
   ]
  },
  {
   "cell_type": "code",
   "execution_count": 3,
   "metadata": {},
   "outputs": [],
   "source": [
    "line = lyrics.lower() \n"
   ]
  },
  {
   "cell_type": "code",
   "execution_count": 4,
   "metadata": {},
   "outputs": [
    {
     "name": "stdout",
     "output_type": "stream",
     "text": [
      "i remember so well the day that you came into my life you asked for my name you have the most beautiful smile my life started to change i wake up each day feeling all right with you right by my side makes me feel things will work out just fine how did you know i needed someone like you in my life that there was an empty space in my heart you came at the right time in my life i never forget how you brought the sun to shine in my life and took all the worries and fears that i had i guess what i am really trying to say it is not everyday that someone like you comes my way no words can express how much i love you how did you know i needed someone like you in my life that there was an empty space in my heart you came at the right time in my life i never forget how you brought the sun to shine in my life and took all the worries and fears that i had i guess what i am really trying to say it is not everyday that someone like you comes my way no words can express how much i love you\n"
     ]
    }
   ],
   "source": [
    "print(line)"
   ]
  },
  {
   "cell_type": "code",
   "execution_count": 5,
   "metadata": {},
   "outputs": [
    {
     "name": "stdout",
     "output_type": "stream",
     "text": [
      "['i', 'remember', 'so', 'well', 'the', 'day', 'that', 'you', 'came', 'into', 'my', 'life', 'you', 'asked', 'for', 'my', 'name', 'you', 'have', 'the', 'most', 'beautiful', 'smile', 'my', 'life', 'started', 'to', 'change', 'i', 'wake', 'up', 'each', 'day', 'feeling', 'all', 'right', 'with', 'you', 'right', 'by', 'my', 'side', 'makes', 'me', 'feel', 'things', 'will', 'work', 'out', 'just', 'fine', 'how', 'did', 'you', 'know', 'i', 'needed', 'someone', 'like', 'you', 'in', 'my', 'life', 'that', 'there', 'was', 'an', 'empty', 'space', 'in', 'my', 'heart', 'you', 'came', 'at', 'the', 'right', 'time', 'in', 'my', 'life', 'i', 'never', 'forget', 'how', 'you', 'brought', 'the', 'sun', 'to', 'shine', 'in', 'my', 'life', 'and', 'took', 'all', 'the', 'worries', 'and', 'fears', 'that', 'i', 'had', 'i', 'guess', 'what', 'i', 'am', 'really', 'trying', 'to', 'say', 'it', 'is', 'not', 'everyday', 'that', 'someone', 'like', 'you', 'comes', 'my', 'way', 'no', 'words', 'can', 'express', 'how', 'much', 'i', 'love', 'you', 'how', 'did', 'you', 'know', 'i', 'needed', 'someone', 'like', 'you', 'in', 'my', 'life', 'that', 'there', 'was', 'an', 'empty', 'space', 'in', 'my', 'heart', 'you', 'came', 'at', 'the', 'right', 'time', 'in', 'my', 'life', 'i', 'never', 'forget', 'how', 'you', 'brought', 'the', 'sun', 'to', 'shine', 'in', 'my', 'life', 'and', 'took', 'all', 'the', 'worries', 'and', 'fears', 'that', 'i', 'had', 'i', 'guess', 'what', 'i', 'am', 'really', 'trying', 'to', 'say', 'it', 'is', 'not', 'everyday', 'that', 'someone', 'like', 'you', 'comes', 'my', 'way', 'no', 'words', 'can', 'express', 'how', 'much', 'i', 'love', 'you']\n"
     ]
    }
   ],
   "source": [
    "words = line.split(\" \") \n",
    "print(words)"
   ]
  },
  {
   "cell_type": "code",
   "execution_count": 6,
   "metadata": {},
   "outputs": [
    {
     "name": "stdout",
     "output_type": "stream",
     "text": [
      "{'will', 'know', 'there', 'beautiful', 'love', 'was', 'me', 'really', 'to', 'for', 'i', 'someone', 'asked', 'worries', 'have', 'so', 'fears', 'space', 'forget', 'words', 'much', 'up', 'that', 'not', 'just', 'well', 'all', 'each', 'in', 'my', 'name', 'can', 'brought', 'say', 'the', 'out', 'like', 'is', 'an', 'remember', 'no', 'needed', 'it', 'shine', 'am', 'empty', 'smile', 'change', 'what', 'everyday', 'heart', 'took', 'side', 'day', 'at', 'and', 'life', 'wake', 'makes', 'how', 'feel', 'by', 'trying', 'into', 'way', 'right', 'did', 'came', 'fine', 'sun', 'never', 'started', 'time', 'feeling', 'express', 'had', 'most', 'guess', 'things', 'work', 'you', 'with', 'comes'}\n"
     ]
    }
   ],
   "source": [
    "unique_words = set(words)\n",
    "print(unique_words)"
   ]
  },
  {
   "cell_type": "code",
   "execution_count": 7,
   "metadata": {},
   "outputs": [
    {
     "data": {
      "text/plain": [
       "215"
      ]
     },
     "execution_count": 7,
     "metadata": {},
     "output_type": "execute_result"
    }
   ],
   "source": [
    "len(words)"
   ]
  },
  {
   "cell_type": "code",
   "execution_count": 8,
   "metadata": {},
   "outputs": [
    {
     "data": {
      "text/plain": [
       "83"
      ]
     },
     "execution_count": 8,
     "metadata": {},
     "output_type": "execute_result"
    }
   ],
   "source": [
    "len(unique_words)"
   ]
  },
  {
   "cell_type": "code",
   "execution_count": 9,
   "metadata": {},
   "outputs": [
    {
     "name": "stdout",
     "output_type": "stream",
     "text": [
      "{'i': 0, 'remember': 0, 'so': 0, 'well': 0, 'the': 0, 'day': 0, 'that': 0, 'you': 0, 'came': 0, 'into': 0, 'my': 0, 'life': 0, 'asked': 0, 'for': 0, 'name': 0, 'have': 0, 'most': 0, 'beautiful': 0, 'smile': 0, 'started': 0, 'to': 0, 'change': 0, 'wake': 0, 'up': 0, 'each': 0, 'feeling': 0, 'all': 0, 'right': 0, 'with': 0, 'by': 0, 'side': 0, 'makes': 0, 'me': 0, 'feel': 0, 'things': 0, 'will': 0, 'work': 0, 'out': 0, 'just': 0, 'fine': 0, 'how': 0, 'did': 0, 'know': 0, 'needed': 0, 'someone': 0, 'like': 0, 'in': 0, 'there': 0, 'was': 0, 'an': 0, 'empty': 0, 'space': 0, 'heart': 0, 'at': 0, 'time': 0, 'never': 0, 'forget': 0, 'brought': 0, 'sun': 0, 'shine': 0, 'and': 0, 'took': 0, 'worries': 0, 'fears': 0, 'had': 0, 'guess': 0, 'what': 0, 'am': 0, 'really': 0, 'trying': 0, 'say': 0, 'it': 0, 'is': 0, 'not': 0, 'everyday': 0, 'comes': 0, 'way': 0, 'no': 0, 'words': 0, 'can': 0, 'express': 0, 'much': 0, 'love': 0}\n"
     ]
    }
   ],
   "source": [
    "dictionary = {} \n",
    "for word in words:\n",
    "    dictionary[word] = 0\n",
    "print(dictionary)"
   ]
  },
  {
   "cell_type": "code",
   "execution_count": 10,
   "metadata": {},
   "outputs": [
    {
     "name": "stdout",
     "output_type": "stream",
     "text": [
      "{'i': 14, 'remember': 1, 'so': 1, 'well': 1, 'the': 8, 'day': 2, 'that': 7, 'you': 16, 'came': 3, 'into': 1, 'my': 14, 'life': 8, 'asked': 1, 'for': 1, 'name': 1, 'have': 1, 'most': 1, 'beautiful': 1, 'smile': 1, 'started': 1, 'to': 5, 'change': 1, 'wake': 1, 'up': 1, 'each': 1, 'feeling': 1, 'all': 3, 'right': 4, 'with': 1, 'by': 1, 'side': 1, 'makes': 1, 'me': 1, 'feel': 1, 'things': 1, 'will': 1, 'work': 1, 'out': 1, 'just': 1, 'fine': 1, 'how': 6, 'did': 2, 'know': 2, 'needed': 2, 'someone': 4, 'like': 4, 'in': 8, 'there': 2, 'was': 2, 'an': 2, 'empty': 2, 'space': 2, 'heart': 2, 'at': 2, 'time': 2, 'never': 2, 'forget': 2, 'brought': 2, 'sun': 2, 'shine': 2, 'and': 4, 'took': 2, 'worries': 2, 'fears': 2, 'had': 2, 'guess': 2, 'what': 2, 'am': 2, 'really': 2, 'trying': 2, 'say': 2, 'it': 2, 'is': 2, 'not': 2, 'everyday': 2, 'comes': 2, 'way': 2, 'no': 2, 'words': 2, 'can': 2, 'express': 2, 'much': 2, 'love': 2}\n"
     ]
    }
   ],
   "source": [
    "for word in words:\n",
    "    dictionary[word] = dictionary[word] + 1\n",
    "print(dictionary)"
   ]
  },
  {
   "cell_type": "code",
   "execution_count": 11,
   "metadata": {},
   "outputs": [],
   "source": [
    "sort_dict = sorted(dictionary.items(),key = lambda t: t[1], reverse =True)"
   ]
  },
  {
   "cell_type": "code",
   "execution_count": 12,
   "metadata": {},
   "outputs": [
    {
     "name": "stdout",
     "output_type": "stream",
     "text": [
      "[('you', 16), ('i', 14), ('my', 14), ('the', 8), ('life', 8), ('in', 8), ('that', 7), ('how', 6), ('to', 5), ('right', 4), ('someone', 4), ('like', 4), ('and', 4), ('came', 3), ('all', 3), ('day', 2), ('did', 2), ('know', 2), ('needed', 2), ('there', 2), ('was', 2), ('an', 2), ('empty', 2), ('space', 2), ('heart', 2), ('at', 2), ('time', 2), ('never', 2), ('forget', 2), ('brought', 2), ('sun', 2), ('shine', 2), ('took', 2), ('worries', 2), ('fears', 2), ('had', 2), ('guess', 2), ('what', 2), ('am', 2), ('really', 2), ('trying', 2), ('say', 2), ('it', 2), ('is', 2), ('not', 2), ('everyday', 2), ('comes', 2), ('way', 2), ('no', 2), ('words', 2), ('can', 2), ('express', 2), ('much', 2), ('love', 2), ('remember', 1), ('so', 1), ('well', 1), ('into', 1), ('asked', 1), ('for', 1), ('name', 1), ('have', 1), ('most', 1), ('beautiful', 1), ('smile', 1), ('started', 1), ('change', 1), ('wake', 1), ('up', 1), ('each', 1), ('feeling', 1), ('with', 1), ('by', 1), ('side', 1), ('makes', 1), ('me', 1), ('feel', 1), ('things', 1), ('will', 1), ('work', 1), ('out', 1), ('just', 1), ('fine', 1)]\n"
     ]
    }
   ],
   "source": [
    "print(sort_dict)"
   ]
  },
  {
   "cell_type": "code",
   "execution_count": 13,
   "metadata": {},
   "outputs": [],
   "source": [
    "sortdict= sort_dict"
   ]
  },
  {
   "cell_type": "code",
   "execution_count": 14,
   "metadata": {},
   "outputs": [],
   "source": [
    "finallist=dict(sortdict)"
   ]
  },
  {
   "cell_type": "code",
   "execution_count": 16,
   "metadata": {},
   "outputs": [
    {
     "name": "stdout",
     "output_type": "stream",
     "text": [
      "you , 16\n",
      "i , 14\n",
      "my , 14\n",
      "the , 8\n",
      "life , 8\n",
      "in , 8\n",
      "that , 7\n",
      "how , 6\n",
      "to , 5\n",
      "right , 4\n",
      "someone , 4\n",
      "like , 4\n",
      "and , 4\n",
      "came , 3\n",
      "all , 3\n",
      "day , 2\n",
      "did , 2\n",
      "know , 2\n",
      "needed , 2\n",
      "there , 2\n",
      "was , 2\n",
      "an , 2\n",
      "empty , 2\n",
      "space , 2\n",
      "heart , 2\n",
      "at , 2\n",
      "time , 2\n",
      "never , 2\n",
      "forget , 2\n",
      "brought , 2\n",
      "sun , 2\n",
      "shine , 2\n",
      "took , 2\n",
      "worries , 2\n",
      "fears , 2\n",
      "had , 2\n",
      "guess , 2\n",
      "what , 2\n",
      "am , 2\n",
      "really , 2\n",
      "trying , 2\n",
      "say , 2\n",
      "it , 2\n",
      "is , 2\n",
      "not , 2\n",
      "everyday , 2\n",
      "comes , 2\n",
      "way , 2\n",
      "no , 2\n",
      "words , 2\n",
      "can , 2\n",
      "express , 2\n",
      "much , 2\n",
      "love , 2\n",
      "remember , 1\n",
      "so , 1\n",
      "well , 1\n",
      "into , 1\n",
      "asked , 1\n",
      "for , 1\n",
      "name , 1\n",
      "have , 1\n",
      "most , 1\n",
      "beautiful , 1\n",
      "smile , 1\n",
      "started , 1\n",
      "change , 1\n",
      "wake , 1\n",
      "up , 1\n",
      "each , 1\n",
      "feeling , 1\n",
      "with , 1\n",
      "by , 1\n",
      "side , 1\n",
      "makes , 1\n",
      "me , 1\n",
      "feel , 1\n",
      "things , 1\n",
      "will , 1\n",
      "work , 1\n",
      "out , 1\n",
      "just , 1\n",
      "fine , 1\n"
     ]
    }
   ],
   "source": [
    "for key in list(finallist.keys()): \n",
    "    print(key, \",\", finallist[key])"
   ]
  },
  {
   "cell_type": "code",
   "execution_count": null,
   "metadata": {},
   "outputs": [],
   "source": []
  }
 ],
 "metadata": {
  "kernelspec": {
   "display_name": "Python 3",
   "language": "python",
   "name": "python3"
  },
  "language_info": {
   "codemirror_mode": {
    "name": "ipython",
    "version": 3
   },
   "file_extension": ".py",
   "mimetype": "text/x-python",
   "name": "python",
   "nbconvert_exporter": "python",
   "pygments_lexer": "ipython3",
   "version": "3.7.4"
  }
 },
 "nbformat": 4,
 "nbformat_minor": 2
}
